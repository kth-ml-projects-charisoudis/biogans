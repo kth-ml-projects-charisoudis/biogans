{
 "metadata": {
  "kernelspec": {
   "language": "python",
   "display_name": "Python 3",
   "name": "python3"
  },
  "language_info": {
   "name": "python",
   "version": "3.7.12",
   "mimetype": "text/x-python",
   "codemirror_mode": {
    "name": "ipython",
    "version": 3
   },
   "pygments_lexer": "ipython3",
   "nbconvert_exporter": "python",
   "file_extension": ".py"
  }
 },
 "nbformat_minor": 4,
 "nbformat": 4,
 "cells": [
  {
   "cell_type": "markdown",
   "source": [
    "# 1) Mount drive, unzip data, clone repo, install packages\n",
    "\n",
    "## 1.1) Define paths\n",
    "Google Drive root: `/kaggle/working/GoogleDrive`\n",
    "Dataset paths are relative to mount point (`/kaggle/input` & `/kaggle/working`)."
   ],
   "metadata": {}
  },
  {
   "cell_type": "code",
   "source": [
    "import os\n",
    "\n",
    "# Create root directory if not exists\n",
    "drive_root = '/kaggle/working/GoogleDrive'\n",
    "!mkdir -p \"$drive_root\"\n",
    "\n",
    "# Define Google Drive related paths\n",
    "!mkdir -p \"$drive_root\"\n",
    "!mkdir -p \"$drive_root/Models\"\n",
    "!mkdir -p \"$drive_root/Datasets\"\n",
    "!mkdir -p \"$drive_root/GitHub Keys\"\n",
    "\n",
    "# Define asset paths\n",
    "git_keys_root = '/kaggle/input/gitkeys-biogans'\n",
    "assert os.path.exists(git_keys_root), f'git_keys_root={git_keys_root}: NOT FOUND'\n",
    "client_secrets_path = f'{git_keys_root}/client_secrets.json'\n",
    "assert os.path.exists(client_secrets_path), f'client_secrets_path={client_secrets_path}: NOT FOUND'"
   ],
   "metadata": {
    "collapsed": false,
    "id": "UmWJHQh7r6Kb",
    "pycharm": {
     "name": "#%%\n"
    },
    "jupyter": {
     "outputs_hidden": false
    },
    "execution": {
     "iopub.status.busy": "2022-06-25T11:37:45.912761Z",
     "iopub.execute_input": "2022-06-25T11:37:45.913134Z",
     "iopub.status.idle": "2022-06-25T11:37:49.274201Z",
     "shell.execute_reply.started": "2022-06-25T11:37:45.913061Z",
     "shell.execute_reply": "2022-06-25T11:37:49.273095Z"
    },
    "trusted": true
   },
   "execution_count": 1,
   "outputs": []
  },
  {
   "cell_type": "markdown",
   "source": [
    "## 1.2) Link inputs available via Kaggle Datasets to corresponding GoogleDrive paths"
   ],
   "metadata": {
    "pycharm": {
     "name": "#%% md\n"
    }
   }
  },
  {
   "cell_type": "code",
   "source": [
    "# Copy the fonts dir inside local Google Drive root\n",
    "!cp -rf \"/kaggle/input/mplfonts/Fonts\" \"$drive_root\"\n",
    "if not os.path.exists(f'{drive_root}/client_secrets.json'):\n",
    "    !cp \"$client_secrets_path\" \"$drive_root/\"\n",
    "\n",
    "# Link the Inceptionv3 & VGG models checkpoints inside local Google Drive root\n",
    "if not os.path.exists(f'{drive_root}/Models/model_name=inceptionv3'):\n",
    "    !cp -rfa \"/kaggle/input/inception-model/.\" \"$drive_root/Models\""
   ],
   "metadata": {
    "collapsed": false,
    "pycharm": {
     "name": "#%%\n"
    },
    "jupyter": {
     "outputs_hidden": false
    },
    "execution": {
     "iopub.status.busy": "2022-06-25T11:37:49.280772Z",
     "iopub.execute_input": "2022-06-25T11:37:49.281355Z",
     "iopub.status.idle": "2022-06-25T11:37:50.001234Z",
     "shell.execute_reply.started": "2022-06-25T11:37:49.281311Z",
     "shell.execute_reply": "2022-06-25T11:37:50.000078Z"
    },
    "trusted": true
   },
   "execution_count": 2,
   "outputs": []
  },
  {
   "cell_type": "code",
   "source": [
    "# Link Dataset\n",
    "if not os.path.exists(f'{drive_root}/Datasets/LIN_48x80/LIN_Normalized_WT_size-48-80_train'):\n",
    "    !mkdir -p \"$drive_root/Datasets/LIN_48x80\"\n",
    "    !ln -s \"/kaggle/input/lin-48x80/LIN_Normalized_WT_size-48-80_train\" \"$drive_root/Datasets/LIN_48x80/\"\n",
    "    !ln -s \"/kaggle/input/lin-48x80/LIN_Normalized_WT_size-48-80_test\" \"$drive_root/Datasets/LIN_48x80/\"\n",
    "!ls \"$drive_root/Datasets/LIN_48x80\""
   ],
   "metadata": {
    "pycharm": {
     "name": "#%%\n"
    },
    "id": "c7bh7lsyr6Kd",
    "execution": {
     "iopub.status.busy": "2022-06-25T11:37:50.003324Z",
     "iopub.execute_input": "2022-06-25T11:37:50.003997Z",
     "iopub.status.idle": "2022-06-25T11:37:50.669003Z",
     "shell.execute_reply.started": "2022-06-25T11:37:50.003957Z",
     "shell.execute_reply": "2022-06-25T11:37:50.667905Z"
    },
    "trusted": true
   },
   "execution_count": 3,
   "outputs": []
  },
  {
   "cell_type": "markdown",
   "source": [
    "## 1.3) Clone GitHub repo\n",
    "Clone achariso/gans-thesis repo into /content/code using git clone.\n",
    "For more info see: https://medium.com/@purba0101/how-to-clone-private-github-repo-in-google-colab-using-ssh-77384cfef18f"
   ],
   "metadata": {
    "id": "rg1ABU-Dr6Ke"
   }
  },
  {
   "cell_type": "code",
   "source": [
    "repo_root = '/content/code/biogans'\n",
    "!rm -rf \"$repo_root\"\n",
    "if not os.path.exists(repo_root):\n",
    "    # Check that ssh keys exist\n",
    "    assert os.path.exists(f'{git_keys_root}')\n",
    "    id_rsa_abs_drive = f'{git_keys_root}/id_rsa'\n",
    "    id_rsa_pub_abs_drive = f'{id_rsa_abs_drive}.pub'\n",
    "    assert os.path.exists(id_rsa_abs_drive)\n",
    "    assert os.path.exists(id_rsa_pub_abs_drive)\n",
    "    # On first run: Add ssh key in repo\n",
    "    if not os.path.exists('/root/.ssh'):\n",
    "        # Transfer config file\n",
    "        ssh_config_abs_drive = f'{git_keys_root}/config'\n",
    "        assert os.path.exists(ssh_config_abs_drive)\n",
    "        !mkdir -p ~/.ssh\n",
    "        !cp -f \"$ssh_config_abs_drive\" ~/.ssh/\n",
    "        # # Add github.com to known hosts\n",
    "        !ssh-keyscan -t rsa github.com >> ~/.ssh/known_hosts\n",
    "        # Test: !ssh -T git@github.com\n",
    "\n",
    "    # Remove any previous attempts\n",
    "    !rm -rf \"$repo_root\"\n",
    "    !mkdir -p \"$repo_root\"\n",
    "    # Clone repo\n",
    "    !git clone git@github.com:kth-ml-course-projects/biogans.git \"$repo_root\"\n",
    "    src_root = f'{repo_root}/src'"
   ],
   "metadata": {
    "pycharm": {
     "name": "#%%\n"
    },
    "id": "JleSSDBur6Ke",
    "execution": {
     "iopub.status.busy": "2022-06-25T11:37:50.672308Z",
     "iopub.execute_input": "2022-06-25T11:37:50.672605Z",
     "iopub.status.idle": "2022-06-25T11:37:54.955232Z",
     "shell.execute_reply.started": "2022-06-25T11:37:50.672569Z",
     "shell.execute_reply": "2022-06-25T11:37:54.954397Z"
    },
    "trusted": true
   },
   "execution_count": 4,
   "outputs": []
  },
  {
   "cell_type": "markdown",
   "source": [
    "## 1.4) Install pip packages\n",
    "All required files are stored in a requirements.txt files at the repository's root.\n",
    "Use `pip install -r requirements.txt` from inside the dir to install required packages."
   ],
   "metadata": {
    "id": "ZI4gCyMdr6Kf"
   }
  },
  {
   "cell_type": "code",
   "source": [
    "%cd \"$repo_root\"\n",
    "!pip install -r requirements.txt"
   ],
   "metadata": {
    "pycharm": {
     "name": "#%%\n"
    },
    "id": "-v3aIKDXr6Kf",
    "execution": {
     "iopub.status.busy": "2022-06-25T11:37:54.956685Z",
     "iopub.execute_input": "2022-06-25T11:37:54.956959Z",
     "iopub.status.idle": "2022-06-25T11:38:02.771703Z",
     "shell.execute_reply.started": "2022-06-25T11:37:54.956922Z",
     "shell.execute_reply": "2022-06-25T11:38:02.770872Z"
    },
    "trusted": true
   },
   "execution_count": 5,
   "outputs": []
  },
  {
   "cell_type": "code",
   "source": [
    "# import os\n",
    "# os.kill(os.getpid(), 9)\n",
    "\n",
    "import torch\n",
    "assert torch.cuda.is_available()"
   ],
   "metadata": {
    "pycharm": {
     "name": "#%%\n"
    },
    "id": "oAwLF973r6Kg",
    "execution": {
     "iopub.status.busy": "2022-06-25T11:38:02.773610Z",
     "iopub.execute_input": "2022-06-25T11:38:02.773890Z",
     "iopub.status.idle": "2022-06-25T11:38:03.342961Z",
     "shell.execute_reply.started": "2022-06-25T11:38:02.773840Z",
     "shell.execute_reply": "2022-06-25T11:38:03.342204Z"
    },
    "trusted": true
   },
   "execution_count": 6,
   "outputs": []
  },
  {
   "cell_type": "markdown",
   "source": [
    "## 1.5) Add code/, */src/ to path\n",
    "This is necessary in order to be able to run the modules."
   ],
   "metadata": {
    "id": "tKxMM8dTr6Kh"
   }
  },
  {
   "cell_type": "code",
   "source": [
    "content_root_abs = f'{repo_root}'\n",
    "src_root_abs = f'{repo_root}/src'\n",
    "%env PYTHONPATH=\"/env/python:$content_root_abs:$src_root_abs\""
   ],
   "metadata": {
    "pycharm": {
     "name": "#%%\n"
    },
    "id": "SatLo0V5r6Kh",
    "execution": {
     "iopub.status.busy": "2022-06-25T11:38:03.344843Z",
     "iopub.execute_input": "2022-06-25T11:38:03.345134Z",
     "iopub.status.idle": "2022-06-25T11:38:03.350881Z",
     "shell.execute_reply.started": "2022-06-25T11:38:03.345096Z",
     "shell.execute_reply": "2022-06-25T11:38:03.349899Z"
    },
    "trusted": true
   },
   "execution_count": 7,
   "outputs": []
  },
  {
   "cell_type": "markdown",
   "source": [
    "# 2) Train BioGAN model on LIN Dataset\n",
    "In this section we run the actual training loop for BioGAN network. BioGAN consists of one and multi-channel DCGAN-like\n",
    "Generators and Discriminators."
   ],
   "metadata": {
    "id": "tDfCUlQsr6Kh"
   }
  },
  {
   "cell_type": "markdown",
   "source": [
    "### Actual Run\n",
    "Eventually, run the code!"
   ],
   "metadata": {
    "id": "T3i1qXear6Ki"
   }
  },
  {
   "cell_type": "code",
   "source": [
    "chkpt_step = 'latest'  # supported: 'latest', <int>, None\n",
    "log_level = 'debug'  # supported: 'debug', 'info', 'warning', 'error', 'critical', 'fatal'\n",
    "device = 'cuda'  # supported: 'cpu', 'cuda', 'cuda:<GPU_INDEX>'\n",
    "gdrive_which = 'personal'  # supported: 'personal', 'auth'\n",
    "\n",
    "# Running with -i enables us to get variables defined inside the script (the script runs inline)\n",
    "%run -i src/train_setup.py --log_level $log_level --chkpt_step $chkpt_step --seed 42 --device $device --gdrive_which $gdrive_which -use_refresh_token\n",
    "%cd src/"
   ],
   "metadata": {
    "pycharm": {
     "name": "#%%\n"
    },
    "id": "MzfIhC7sr6Ki",
    "execution": {
     "iopub.status.busy": "2022-06-25T11:38:03.352071Z",
     "iopub.execute_input": "2022-06-25T11:38:03.352704Z",
     "iopub.status.idle": "2022-06-25T11:38:07.252061Z",
     "shell.execute_reply.started": "2022-06-25T11:38:03.352668Z",
     "shell.execute_reply": "2022-06-25T11:38:07.251255Z"
    },
    "trusted": true
   },
   "execution_count": 8,
   "outputs": []
  },
  {
   "cell_type": "markdown",
   "source": [
    "### BioGAN Training\n",
    "The code that follows defines the dataloaders/evaluators/models and the main training loop.\n"
   ],
   "metadata": {
    "pycharm": {
     "name": "#%% md\n"
    },
    "id": "fo8tX5Omr6Ki"
   }
  },
  {
   "cell_type": "code",
   "source": [
    "import torch\n",
    "from IPython.core.display import display\n",
    "from torch import Tensor\n",
    "from torch.nn import DataParallel\n",
    "from torch.utils.data import DataLoader\n",
    "\n",
    "from datasets.lin import LINDataloader6Class\n",
    "from modules.biogan_star_shaped import BioGanStarShaped\n",
    "from utils.metrics import GanEvaluator6Class\n",
    "\n",
    "###################################\n",
    "###  Hyper-parameters settings  ###\n",
    "###################################\n",
    "#   - training\n",
    "n_epochs = 3200\n",
    "\n",
    "batch_size = 32 if not run_locally else 2\n",
    "train_test_splits = [90, 10]  # for a 90% training - 10% evaluation set split\n",
    "#   - evaluation\n",
    "metrics_n_samples = 1000 if not run_locally else 2\n",
    "metrics_batch_size = 32 if not run_locally else 1\n",
    "f1_k = 3 if not run_locally else 1\n",
    "#   - visualizations / checkpoints steps\n",
    "display_step = 300\n",
    "checkpoint_step = 6 * display_step\n",
    "metrics_step = 3 * checkpoint_step  # evaluate model every 3 checkpoints\n",
    "\n",
    "###################################\n",
    "###   Dataset Initialization    ###\n",
    "###################################\n",
    "#   - the dataloader used to access the training dataset of cross-scale/pose image pairs at every epoch\n",
    "#     > len(dataloader) = <number of batches>\n",
    "#     > len(dataloader.dataset) = <number of total dataset items>\n",
    "# FIX: Add subfolders to GoogleDrive\n",
    "datasets_groot.subfolder_by_name('LIN_48x80').subfolder_by_name_or_create('LIN_Normalized_WT_size-48-80_train')\n",
    "datasets_groot.subfolder_by_name('LIN_48x80').subfolder_by_name_or_create('LIN_Normalized_WT_size-48-80_test')\n",
    "dataloader = LINDataloader6Class(dataset_fs_folder_or_root=datasets_groot, train_not_test=True,\n",
    "                                 batch_size=batch_size, pin_memory=not run_locally, shuffle=True)\n",
    "dataset = dataloader.dataset\n",
    "dataset.logger.debug('Transforms: ' + repr(dataset.transforms))\n",
    "#   - apply rudimentary tests\n",
    "assert issubclass(dataloader.__class__, DataLoader)\n",
    "assert len(dataloader) == len(dataset) // batch_size + (1 if len(dataset) % batch_size else 0)\n",
    "_x = next(iter(dataloader))\n",
    "assert tuple(_x.shape) == (6, batch_size, 2, 48, 80)\n",
    "\n",
    "###################################\n",
    "###    Models Initialization    ###\n",
    "###################################\n",
    "#   - initialize evaluator instance (used to run GAN evaluation metrics: FID, IS, PRECISION, RECALL, F1 and SSIM)\n",
    "evaluator = GanEvaluator6Class(model_fs_folder_or_root=models_groot, gen_dataset=dataset, device=exec_device,\n",
    "                               z_dim=-1, n_samples=metrics_n_samples, batch_size=metrics_batch_size, f1_k=f1_k,\n",
    "                               ssim_c_img=2)\n",
    "#   - initialize model\n",
    "biogan_config = 'wgan-gp-star-shaped'\n",
    "chkpt_step = args.chkpt_step\n",
    "try:\n",
    "    if chkpt_step == 'latest':\n",
    "        _chkpt_step = chkpt_step\n",
    "    elif isinstance(chkpt_step, str) and chkpt_step.isdigit():\n",
    "        _chkpt_step = int(chkpt_step)\n",
    "    else:\n",
    "        _chkpt_step = None\n",
    "except NameError:\n",
    "    _chkpt_step = None\n",
    "biogan = BioGanStarShaped(model_fs_folder_or_root=models_groot, config_id=biogan_config, dataset_len=len(dataset),\n",
    "                         chkpt_epoch=_chkpt_step, evaluator=evaluator, device=exec_device, log_level=log_level,\n",
    "                         gen_transforms=dataloader.transforms)\n",
    "biogan.logger.debug(f'Using device: {str(exec_device)}')\n",
    "biogan.logger.debug(f'Model initialized. Number of params = {biogan.nparams_hr}')\n",
    "# FIX: Warmup counters before first batch\n",
    "if biogan.step is None:\n",
    "    biogan.gforward(batch_size=batch_size)\n",
    "    biogan.logger.debug(f'Model warmed-up (internal counters).')\n",
    "# #   - setup multi-GPU training\n",
    "# if torch.cuda.device_count() > 1:\n",
    "#     biogan.gen = DataParallel(biogan.gen, list(range(torch.cuda.device_count())))\n",
    "#     biogan.info(f'Using {torch.cuda.device_count()} GPUs for PGPG Generator (via torch.nn.DataParallel)')\n",
    "# #   - load dataloader state (from model checkpoint)\n",
    "# if 'dataloader' in biogan.other_state_dicts.keys():\n",
    "#     dataloader.set_state(biogan.other_state_dicts['dataloader'])\n",
    "#     biogan.logger.debug(f'Loaded dataloader state! Current pem_index={dataloader.get_state()[\"perm_index\"]}')"
   ],
   "metadata": {
    "pycharm": {
     "name": "#%%\n"
    },
    "id": "0xSTSSqOr6Kj",
    "execution": {
     "iopub.status.busy": "2022-06-25T11:38:07.253516Z",
     "iopub.execute_input": "2022-06-25T11:38:07.253779Z",
     "iopub.status.idle": "2022-06-25T11:39:41.305294Z",
     "shell.execute_reply.started": "2022-06-25T11:38:07.253740Z",
     "shell.execute_reply": "2022-06-25T11:39:41.304441Z"
    },
    "trusted": true
   },
   "execution_count": 9,
   "outputs": []
  },
  {
   "cell_type": "markdown",
   "source": [
    "### BioGAN Main Training Loop\n"
   ],
   "metadata": {
    "id": "EkVdzzTXr6Kj"
   }
  },
  {
   "cell_type": "code",
   "source": [
    "from tqdm.autonotebook import tqdm\n",
    "from utils.dep_free import in_notebook\n",
    "import matplotlib.pyplot as plt\n",
    "\n",
    "torch.cuda.empty_cache()\n",
    "\n",
    "###################################\n",
    "###       Training Loop         ###\n",
    "###################################\n",
    "#   - start training loop from last checkpoint's epoch and step\n",
    "gcapture_ready = True\n",
    "async_results = None\n",
    "biogan.logger.info(f'[training loop] STARTING (epoch={biogan.epoch}, step={biogan.initial_step})')\n",
    "biogan.initial_step += 1\n",
    "for epoch in range(biogan.epoch, n_epochs):\n",
    "    # noinspection PyProtectedMember\n",
    "    d = {\n",
    "        'step': biogan.step,\n",
    "        'initial_step': biogan.initial_step,\n",
    "        'epoch': biogan.epoch,\n",
    "        '_counter': biogan._counter,\n",
    "        'epoch_inc': biogan.epoch_inc,\n",
    "    }\n",
    "    # initial_step = biogan.initial_step % len(dataloader)\n",
    "    biogan.logger.debug('[START OF EPOCH] ' + str(d))\n",
    "    progress_bar = tqdm(dataloader)\n",
    "    progress_bar.set_description(f'[e {str(epoch).zfill(4)}/{str(n_epochs).zfill(4)}]' +\n",
    "                                 f'[g --.-- | d --.--]')\n",
    "    \n",
    "    gen_loss_prev = 0.0\n",
    "    for x in progress_bar:\n",
    "        # Transfer image batches to GPU\n",
    "        x = x.to(exec_device)\n",
    "\n",
    "        # Perform a forward + backward pass + weight update on the Generator & Discriminator models\n",
    "        disc_loss, gen_loss = biogan(x)\n",
    "        if gen_loss is not None:\n",
    "            gen_loss = gen_loss.item()\n",
    "            gen_loss_prev = gen_loss\n",
    "        else:\n",
    "            gen_loss = gen_loss_prev\n",
    "        progress_bar.set_description(f'[e {str(epoch).zfill(4)}/{str(n_epochs).zfill(4)}]' +\n",
    "                                     f'[g {round(gen_loss, 2)} | d {round(disc_loss.item(), 2)}]')\n",
    "\n",
    "        # Metrics & Checkpoint Code\n",
    "        if biogan.step % checkpoint_step == 0:\n",
    "            # Check if another upload is pending\n",
    "            if not gcapture_ready and async_results:\n",
    "                # Wait for previous upload to finish\n",
    "                biogan.logger.warning('Waiting for previous gcapture() to finish...')\n",
    "                [r.wait() for r in async_results]\n",
    "                biogan.logger.warning('DONE! Starting new capture now.')\n",
    "            # Capture current model state, including metrics and visualizations\n",
    "            async_results = biogan.gcapture(checkpoint=True, metrics=biogan.step % metrics_step == 0,\n",
    "                                            visualizations=True,\n",
    "                                            dataloader=dataloader, in_parallel=True, show_progress=True,\n",
    "                                            delete_after=False)\n",
    "        # Visualization code\n",
    "        elif biogan.step % display_step == 0:\n",
    "            visualization_img = biogan.visualize()\n",
    "            visualization_img.show() if not in_notebook() else display(visualization_img)\n",
    "\n",
    "        # Check if a pending checkpoint upload has finished\n",
    "        if async_results:\n",
    "            gcapture_ready = all([r.ready() for r in async_results])\n",
    "            if gcapture_ready:\n",
    "                biogan.logger.info(f'gcapture() finished')\n",
    "                if biogan.latest_checkpoint_had_metrics:\n",
    "                    biogan.logger.info(str(biogan.latest_metrics))\n",
    "                async_results = None\n",
    "\n",
    "        # If run locally one pass is enough\n",
    "        if run_locally and gcapture_ready:\n",
    "            break\n",
    "    \n",
    "    # If run locally one pass is enough\n",
    "    if run_locally:\n",
    "        break\n",
    "\n",
    "    # noinspection PyProtectedMember\n",
    "    d = {\n",
    "        'step': biogan.step,\n",
    "        'initial_step': biogan.initial_step,\n",
    "        'epoch': biogan.epoch,\n",
    "        '_counter': biogan._counter,\n",
    "        'epoch_inc': biogan.epoch_inc,\n",
    "    }\n",
    "    biogan.logger.debug('[END OF EPOCH] ' + str(d))\n",
    "#     plt.imshow(biogan.visualize(reproducible=False))\n",
    "#     plt.show()\n",
    "\n",
    "# Check if a pending checkpoint exists\n",
    "if async_results:\n",
    "    ([r.wait() for r in async_results])\n",
    "    biogan.logger.info(f'last gcapture() finished')\n",
    "    if biogan.latest_checkpoint_had_metrics:\n",
    "        biogan.logger.info(str(biogan.latest_metrics))\n",
    "    async_results = None\n",
    "\n",
    "# Training finished!\n",
    "biogan.logger.info('[training loop] DONE')\n",
    "\n",
    "# Take last checkpoint\n",
    "biogan.gcapture(checkpoint=True, metrics=True, visualizations=True, in_parallel=False, show_progress=True)"
   ],
   "metadata": {
    "pycharm": {
     "name": "#%%\n"
    },
    "id": "eAltCxbUr6Kk",
    "execution": {
     "iopub.status.busy": "2022-06-25T11:39:41.306690Z",
     "iopub.execute_input": "2022-06-25T11:39:41.307110Z"
    },
    "trusted": true
   },
   "execution_count": null,
   "outputs": []
  },
  {
   "cell_type": "code",
   "source": [
    "# model_dir = biogan.gfolder.local_root\n",
    "# !rm -rf \"$model_dir\"\n",
    "biogan.visualize(reproducible=False)"
   ],
   "metadata": {
    "trusted": true
   },
   "execution_count": null,
   "outputs": []
  },
  {
   "cell_type": "markdown",
   "source": [
    "var# 3) Evaluate PGPG\n",
    "In this section we evaluate the generation performance of our trained network using the SOTA GAN evaluation metrics."
   ],
   "metadata": {
    "id": "4eo2nbawr6Kl"
   }
  },
  {
   "cell_type": "markdown",
   "source": [
    "## 3.1) Get the metrics evolution plots\n",
    "We plot how the metrics evolved during training. The GAN is **not** trained to minimize those metrics (they are\n",
    "calculated using `torch.no_grad()`) and thus this evolution merely depends on the network and showcases the correlation\n",
    "between the GAN evaluation metrics, and the losses (e.g. adversarial & reconstruction) used to optimize the network."
   ],
   "metadata": {
    "id": "PuHwKZpAr6Kl"
   }
  },
  {
   "cell_type": "code",
   "source": [
    "# Since the Biogan implements utils.ifaces.Visualizable, we can\n",
    "# directly call visualize_metrics() on the model instance.\n",
    "_ = biogan.visualize_metrics(upload=True, preview=True)"
   ],
   "metadata": {
    "pycharm": {
     "name": "#%%\n"
    },
    "id": "1RZWIdiEr6Kl",
    "trusted": true
   },
   "execution_count": null,
   "outputs": []
  },
  {
   "cell_type": "markdown",
   "source": [
    "## 3.2) Evaluate Generated Samples\n",
    "In order to evaluate generated samples and compare model with other GAN architectures trained on the same dataset.\n",
    "For this purpose we will re-calculate the evaluation metrics as stated above, but with a much bigger number of samples.\n",
    "In this way, the metrics will be more trustworthy and comparable with the corresponding metrics in the original paper.\n"
   ],
   "metadata": {
    "id": "0JS-838er6Kl"
   }
  },
  {
   "cell_type": "code",
   "source": [
    "# Initialize a new evaluator instance\n",
    "# (used to run GAN evaluation metrics: FID, IS, PRECISION, RECALL, F1 and SSIM)\n",
    "dataloader = LINDataloader6Class(dataset_fs_folder_or_root=datasets_groot, train_not_test=True,\n",
    "                                 batch_size=batch_size, pin_memory=not run_locally, shuffle=True)\n",
    "dataset = dataloader.dataset\n",
    "dataset.logger.debug('Transforms: ' + repr(dataset.transforms))\n",
    "#   - apply rudimentary tests\n",
    "assert issubclass(dataloader.__class__, DataLoader)\n",
    "assert len(dataloader) == len(dataset) // batch_size + (1 if len(dataset) % batch_size else 0)\n",
    "_x = next(iter(dataloader))\n",
    "assert tuple(_x.shape) == (batch_size, 2, 48, 80)\n",
    "\n",
    "###################################\n",
    "###    Models Initialization    ###\n",
    "###################################\n",
    "#   - initialize evaluator instance (used to run GAN evaluation metrics: FID, IS, PRECISION, RECALL, F1 and SSIM)\n",
    "evaluator = GanEvaluator6Class(model_fs_folder_or_root=models_groot, gen_dataset=dataset, device=exec_device,\n",
    "                               z_dim=-1, n_samples=metrics_n_samples, batch_size=metrics_batch_size, f1_k=f1_k,\n",
    "                               ssim_c_img=2, is_final=True)\n",
    "# Run the evaluator\n",
    "metrics_dict = evaluator.evaluate(gen=biogan.gen, metric_name='all', show_progress=True)\n",
    "\n",
    "# Print results\n",
    "import json\n",
    "\n",
    "print(json.dumps(metrics_dict, indent=4))\n",
    "\n",
    "#\n",
    "#-----------\n",
    "# Epoch 93\n",
    "#----------\n",
    "# \n",
    "# Training Set:\n",
    "# {\n",
    "#     \"fid\": 8.034801483154297,\n",
    "#     \"is\": 1.8340710401535034,\n",
    "#     \"f1\": 0.9129236936569214,\n",
    "#     \"precision\": 0.8901609182357788,\n",
    "#     \"recall\": 0.9368811845779419,\n",
    "#     \"ssim\": 0.6353044509887695,\n",
    "#     \"ppl\": 1.3186851513091041e-13\n",
    "# }\n",
    "#\n",
    "# Test Set:\n",
    "# {\n",
    "#     \"fid\": 26.503515243530273,\n",
    "#     \"is\": 2.957645606994629,\n",
    "#     \"f1\": 0.8494825959205627,\n",
    "#     \"precision\": 0.8351463675498962,\n",
    "#     \"recall\": 0.8643196225166321,\n",
    "#     \"ssim\": 0.7690791009871171\n",
    "# }\n",
    "#"
   ],
   "metadata": {
    "pycharm": {
     "name": "#%%\n"
    },
    "id": "TtWHtcgsr6Km",
    "trusted": true
   },
   "execution_count": null,
   "outputs": []
  }
 ]
}