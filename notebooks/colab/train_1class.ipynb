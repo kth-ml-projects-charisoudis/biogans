{
 "nbformat": 4,
 "nbformat_minor": 0,
 "metadata": {
  "kernelspec": {
   "display_name": "Python 3",
   "language": "python",
   "name": "python3"
  },
  "language_info": {
   "codemirror_mode": {
    "name": "ipython",
    "version": 2
   },
   "file_extension": ".py",
   "mimetype": "text/x-python",
   "name": "python",
   "nbconvert_exporter": "python",
   "pygments_lexer": "ipython2",
   "version": "2.7.6"
  },
  "colab": {
   "name": "pgpg_debug.ipynb",
   "provenance": []
  },
  "accelerator": "GPU"
 },
 "cells": [
  {
   "cell_type": "markdown",
   "source": [
    "# 1) Mount drive, unzip data, clone repo, install packages"
   ],
   "metadata": {
    "collapsed": false
   }
  },
  {
   "cell_type": "markdown",
   "metadata": {
    "collapsed": false,
    "id": "UmWJHQh7r6Kb"
   },
   "source": [
    "## 1.1) Mount Drive and define paths\n",
    "Run provided colab code to mount Google Drive. Then define dataset paths relative to mount point."
   ]
  },
  {
   "cell_type": "code",
   "metadata": {
    "pycharm": {
     "name": "#%%\n"
    },
    "id": "1j__4kcZr6Kc"
   },
   "source": [
    "# noinspection PyUnresolvedReferences,PyPackageRequirements\n",
    "from google.colab import drive\n",
    "\n",
    "mount_root_abs = '/content/drive'\n",
    "drive.mount(mount_root_abs, force_remount=True)\n",
    "drive_root = f'{mount_root_abs}/MyDrive/ProjectGStorage'"
   ],
   "execution_count": null,
   "outputs": []
  },
  {
   "cell_type": "markdown",
   "source": [
    "## 1.2) Unzip Img directory in Colab\n",
    "By unzipping the `lin-48x80.zip` in Colab before running our model we gain significant disk reading speedups.\n",
    "So, the first step is to unzip images directory, and then save the image directory before proceeding."
   ],
   "metadata": {
    "collapsed": false,
    "pycharm": {
     "name": "#%% md\n"
    }
   }
  },
  {
   "cell_type": "code",
   "metadata": {
    "pycharm": {
     "name": "#%%\n"
    },
    "id": "c7bh7lsyr6Kd"
   },
   "source": [
    "import os\n",
    "\n",
    "# Check if LIN Dataset is present / Download Dataset\n",
    "df_root_drive = f'{drive_root}/Datasets/LIN_48x80'\n",
    "if not os.path.exists(f'{df_root_drive}/lin-48x80.zip'):\n",
    "    !pip install kaggle --upgrade\n",
    "    os.environ['KAGGLE_CONFIG_DIR'] = drive_root\n",
    "    !mkdir -p $df_root_drive\n",
    "    !kaggle datasets download \"achariso/lin-48x80\" -p \"$df_root_drive\"\n",
    "\n",
    "# Unzip\n",
    "if not os.path.exists(f\"{df_root_drive}/LIN_Normalized_WT_size-48-80_train\"):\n",
    "  !pip install unzip\n",
    "  !mkdir -p \"/content/data/LIN_48x80\"\n",
    "  !cp -f \"$df_root_drive/lin-48x80.zip\" \"/content/data/LIN_48x80\"\n",
    "  !unzip -qq \"/content/data/LIN_48x80/lin-48x80.zip\" -d \"/content/data/LIN_48x80\"\n",
    "  if os.path.exists(f'/content/data/LIN_48x80/LIN_Normalized_WT_size-48-80_train'):\n",
    "      # Create symbolic links\n",
    "      !ln -s \"/content/data/LIN_48x80/LIN_Normalized_WT_size-48-80_train\" \"$df_root_drive/LIN_Normalized_WT_size-48-80_train\"\n",
    "      !ln -s \"/content/data/LIN_48x80/LIN_Normalized_WT_size-48-80_test\" \"$df_root_drive/LIN_Normalized_WT_size-48-80_test\"\n",
    "  else:\n",
    "      print(f'Error: Dataset not found at \"/content/data/LIN_48x80\"')"
   ],
   "execution_count": null,
   "outputs": []
  },
  {
   "cell_type": "markdown",
   "metadata": {
    "collapsed": false,
    "id": "rg1ABU-Dr6Ke"
   },
   "source": [
    "## 1.3) Clone GitHub repo\n",
    "Clone achariso/gans-thesis repo into /content/code\n",
    " using git clone.\n",
    " For more info see: https://medium.com/@purba0101/how-to-clone-private-github-repo-in-google-colab-using-ssh-77384cfef18f"
   ]
  },
  {
   "cell_type": "code",
   "metadata": {
    "pycharm": {
     "name": "#%%\n"
    },
    "id": "JleSSDBur6Ke"
   },
   "source": [
    "repo_root = '/content/code/biogans'\n",
    "!rm -rf \"$repo_root\"\n",
    "if not os.path.exists(repo_root) and not os.path.exists(f'{repo_root}/requirements.txt'):\n",
    "    # Check that ssh keys exist\n",
    "    assert os.path.exists(f'{drive_root}/GitHub Keys')\n",
    "    id_rsa_abs_drive = f'{drive_root}/GitHub Keys/id_rsa'\n",
    "    id_rsa_pub_abs_drive = f'{id_rsa_abs_drive}.pub'\n",
    "    assert os.path.exists(id_rsa_abs_drive)\n",
    "    assert os.path.exists(id_rsa_pub_abs_drive)\n",
    "    # On first run: Add ssh key in repo\n",
    "    if not os.path.exists('/root/.ssh'):\n",
    "        # Transfer config file\n",
    "        ssh_config_abs_drive = f'{drive_root}/GitHub Keys/config'\n",
    "        assert os.path.exists(ssh_config_abs_drive)\n",
    "        !mkdir -p ~/.ssh\n",
    "        !cp -f \"$ssh_config_abs_drive\" ~/.ssh/\n",
    "        # # Add github.com to known hosts\n",
    "        !ssh-keyscan -t rsa github.com >> ~/.ssh/known_hosts\n",
    "        # Test: !ssh -T git@github.com\n",
    "\n",
    "    # Remove any previous attempts\n",
    "    !rm -rf \"$repo_root\"\n",
    "    !mkdir -p \"$repo_root\"\n",
    "    # Clone repo\n",
    "    !git clone git@github.com:kth-ml-course-projects/biogans.git \"$repo_root\"\n",
    "    src_root = f'{repo_root}/src'"
   ],
   "execution_count": null,
   "outputs": []
  },
  {
   "cell_type": "markdown",
   "metadata": {
    "collapsed": false,
    "id": "ZI4gCyMdr6Kf"
   },
   "source": [
    "## 1.4) Install pip packages\n",
    "All required files are stored in a requirements.txt files at the repository's root.\n",
    "Use `pip install -r requirements.txt` from inside the dir to install required packages."
   ]
  },
  {
   "cell_type": "code",
   "metadata": {
    "pycharm": {
     "name": "#%%\n"
    },
    "id": "-v3aIKDXr6Kf"
   },
   "source": [
    "%cd \"$repo_root\"\n",
    "!pip install -r requirements.txt"
   ],
   "execution_count": null,
   "outputs": []
  },
  {
   "cell_type": "code",
   "metadata": {
    "pycharm": {
     "name": "#%%\n"
    },
    "id": "oAwLF973r6Kg"
   },
   "source": [
    "# import os\n",
    "# os.kill(os.getpid(), 9)\n",
    "\n",
    "import torch\n",
    "assert torch.cuda.is_available()"
   ],
   "execution_count": null,
   "outputs": []
  },
  {
   "cell_type": "markdown",
   "metadata": {
    "collapsed": false,
    "id": "tKxMM8dTr6Kh"
   },
   "source": [
    "## 1.5) Add code/, */src/ to path\n",
    "This is necessary in order to be able to run the modules."
   ]
  },
  {
   "cell_type": "code",
   "metadata": {
    "pycharm": {
     "name": "#%%\n"
    },
    "id": "SatLo0V5r6Kh"
   },
   "source": [
    "content_root_abs = f'{repo_root}'\n",
    "src_root_abs = f'{repo_root}/src'\n",
    "%env PYTHONPATH=\"/env/python:$content_root_abs:$src_root_abs"
   ],
   "execution_count": null,
   "outputs": []
  },
  {
   "cell_type": "markdown",
   "metadata": {
    "collapsed": false,
    "id": "tDfCUlQsr6Kh"
   },
   "source": [
    "# 2) Train BioGAN model on LIN Dataset\n",
    "In this section we run the actual training loop for BioGAN network. BioGAN consists of one and multi-channel DCGAN-like\n",
    "Generators and Discriminators."
   ]
  },
  {
   "cell_type": "markdown",
   "metadata": {
    "collapsed": false,
    "id": "T3i1qXear6Ki"
   },
   "source": [
    "### Actual Run\n",
    "Eventually, run the code!"
   ]
  },
  {
   "cell_type": "code",
   "metadata": {
    "pycharm": {
     "name": "#%%\n"
    },
    "id": "MzfIhC7sr6Ki"
   },
   "source": [
    "chkpt_step = 'latest'   # supported: 'latest', <int>, None\n",
    "log_level = 'debug'     # supported: 'debug', 'info', 'warning', 'error', 'critical', 'fatal'\n",
    "device = 'cuda'             # supported: 'cpu', 'cuda', 'cuda:<GPU_INDEX>'\n",
    "gdrive_which = 'personal'   # supported: 'personal', 'auth'\n",
    "\n",
    "classes = 'Alp14'\n",
    "\n",
    "# Running with -i enables us to get variables defined inside the script (the script runs inline)\n",
    "%run -i src/train_setup.py --log_level $log_level --chkpt_step $chkpt_step --seed 42 --device $device --gdrive_which $gdrive_which -use_refresh_token --which_classes $classes\n",
    "%cd src/"
   ],
   "execution_count": null,
   "outputs": []
  },
  {
   "cell_type": "markdown",
   "metadata": {
    "collapsed": false,
    "pycharm": {
     "name": "#%% md\n"
    },
    "id": "fo8tX5Omr6Ki"
   },
   "source": [
    "### BioGAN Training\n",
    "The code that follows defines the dataloaders/evaluators/models and the main training loop.\n"
   ]
  },
  {
   "cell_type": "code",
   "metadata": {
    "pycharm": {
     "name": "#%%\n"
    },
    "id": "0xSTSSqOr6Kj"
   },
   "source": [
    "import torch\n",
    "from IPython.core.display import display\n",
    "from torch import Tensor\n",
    "from torch.nn import DataParallel\n",
    "# noinspection PyProtectedMember\n",
    "from torch.utils.data import DataLoader\n",
    "\n",
    "from datasets.lin import LINDataset, LINDataloader\n",
    "from modules.biogan import OneClassBioGan\n",
    "from utils.ifaces import FilesystemDataset\n",
    "from utils.metrics import GanEvaluator\n",
    "\n",
    "###################################\n",
    "###  Hyper-parameters settings  ###\n",
    "###################################\n",
    "#   - training\n",
    "n_epochs = 100\n",
    "\n",
    "batch_size = 48 if not run_locally else 48\n",
    "train_test_splits = [90, 10]  # for a 90% training - 10% evaluation set split\n",
    "#   - evaluation\n",
    "metrics_n_samples = 1000 if not run_locally else 2\n",
    "metrics_batch_size = 32 if not run_locally else 1\n",
    "f1_k = 3 if not run_locally else 1\n",
    "#   - visualizations / checkpoints steps\n",
    "display_step = 100\n",
    "checkpoint_step = 300\n",
    "metrics_step = 900  # evaluate model every 3 checkpoints\n",
    "\n",
    "###################################\n",
    "###   Dataset Initialization    ###\n",
    "###################################\n",
    "#   - the dataloader used to access the training dataset of cross-scale/pose image pairs at every epoch\n",
    "#     > len(dataloader) = <number of batches>\n",
    "#     > len(dataloader.dataset) = <number of total dataset items>\n",
    "dataloader = LINDataloader(dataset_fs_folder_or_root=datasets_groot, train_not_test=True,\n",
    "                           batch_size=batch_size, pin_memory=not run_locally,\n",
    "                           which_classes=args.which_classes)\n",
    "dataset = dataloader.dataset\n",
    "#   - apply rudimentary tests\n",
    "assert issubclass(dataloader.__class__, DataLoader)\n",
    "assert len(dataloader) == len(dataset) // batch_size + (1 if len(dataset) % batch_size else 0)\n",
    "_x = next(iter(dataloader))\n",
    "assert tuple(_x.shape) == (batch_size, 2, 48, 80)\n",
    "\n",
    "###################################\n",
    "###    Models Initialization    ###\n",
    "###################################\n",
    "#   - initialize evaluator instance (used to run GAN evaluation metrics: FID, IS, PRECISION, RECALL, F1 and SSIM)\n",
    "evaluator = GanEvaluator(model_fs_folder_or_root=models_groot, gen_dataset=dataset, device=exec_device,\n",
    "                         z_dim=-1, n_samples=metrics_n_samples, batch_size=metrics_batch_size, f1_k=f1_k,\n",
    "                         ssim_c_img=2)\n",
    "#   - initialize model\n",
    "chkpt_step = args.chkpt_step\n",
    "try:\n",
    "    if chkpt_step == 'latest':\n",
    "        _chkpt_step = chkpt_step\n",
    "    elif isinstance(chkpt_step, str) and chkpt_step.isdigit():\n",
    "        _chkpt_step = int(chkpt_step)\n",
    "    else:\n",
    "        _chkpt_step = None\n",
    "except NameError:\n",
    "    _chkpt_step = None\n",
    "biogan = OneClassBioGan(model_fs_folder_or_root=models_groot, config_id='default', dataset_len=len(dataset),\n",
    "                        chkpt_epoch=_chkpt_step, evaluator=evaluator, device=exec_device, log_level=log_level)\n",
    "biogan.logger.debug(f'Using device: {str(exec_device)}')\n",
    "biogan.logger.debug(f'Model initialized. Number of params = {biogan.nparams_hr}')\n",
    "#   - setup multi-GPU training\n",
    "if torch.cuda.device_count() > 1:\n",
    "    biogan.gen = DataParallel(biogan.gen, list(range(torch.cuda.device_count())))\n",
    "    biogan.info(f'Using {torch.cuda.device_count()} GPUs for PGPG Generator (via torch.nn.DataParallel)')\n",
    "# #   - load dataloader state (from model checkpoint)\n",
    "# if 'dataloader' in biogan.other_state_dicts.keys():\n",
    "#     dataloader.set_state(biogan.other_state_dicts['dataloader'])\n",
    "#     biogan.logger.debug(f'Loaded dataloader state! Current pem_index={dataloader.get_state()[\"perm_index\"]}')\n"
   ],
   "execution_count": null,
   "outputs": []
  },
  {
   "cell_type": "markdown",
   "metadata": {
    "collapsed": false,
    "id": "EkVdzzTXr6Kj"
   },
   "source": [
    "### BioGAN Main training loop\n"
   ]
  },
  {
   "cell_type": "code",
   "metadata": {
    "pycharm": {
     "name": "#%%\n"
    },
    "id": "eAltCxbUr6Kk"
   },
   "source": [
    "import click\n",
    "from tqdm.autonotebook import tqdm\n",
    "from utils.dep_free import in_notebook\n",
    "torch.cuda.empty_cache()\n",
    "\n",
    "###################################\n",
    "###       Training Loop         ###\n",
    "###################################\n",
    "#   - start training loop from last checkpoint's epoch and step\n",
    "gcapture_ready = True\n",
    "async_results = None\n",
    "biogan.logger.info(f'[training loop] STARTING (epoch={biogan.epoch}, step={biogan.initial_step})')\n",
    "for epoch in range(biogan.epoch, n_epochs):\n",
    "    image_1: Tensor\n",
    "    image_2: Tensor\n",
    "    pose_2: Tensor\n",
    "\n",
    "    # noinspection PyProtectedMember\n",
    "    d = {\n",
    "        'step': biogan.step,\n",
    "        'initial_step': biogan.initial_step,\n",
    "        'epoch': biogan.epoch,\n",
    "        '_counter': biogan._counter,\n",
    "        'epoch_inc': biogan.epoch_inc,\n",
    "    }\n",
    "    # initial_step = biogan.initial_step % len(dataloader)\n",
    "    biogan.logger.debug('[START OF EPOCH] ' + str(d))\n",
    "    for x in tqdm(dataloader):\n",
    "        # Transfer image batches to GPU\n",
    "        x = x.to(exec_device)\n",
    "\n",
    "        # Perform a forward + backward pass + weight update on the Generator & Discriminator models\n",
    "        disc_loss, gen_loss = biogan(x)\n",
    "\n",
    "        # Metrics & Checkpoint Code\n",
    "        if biogan.step % checkpoint_step == 0:\n",
    "            # Check if another upload is pending\n",
    "            if not gcapture_ready and async_results:\n",
    "                # Wait for previous upload to finish\n",
    "                biogan.logger.warning('Waiting for previous gcapture() to finish...')\n",
    "                [r.wait() for r in async_results]\n",
    "                biogan.logger.warning('DONE! Starting new capture now.')\n",
    "            # Capture current model state, including metrics and visualizations\n",
    "            async_results = biogan.gcapture(checkpoint=True, metrics=biogan.step % metrics_step == 0, visualizations=True,\n",
    "                                            dataloader=dataloader, in_parallel=True, show_progress=True,\n",
    "                                            delete_after=False)\n",
    "        # Visualization code\n",
    "        elif biogan.step % display_step == 0:\n",
    "            visualization_img = biogan.visualize()\n",
    "            visualization_img.show() if not in_notebook() else display(visualization_img)\n",
    "\n",
    "        # Check if a pending checkpoint upload has finished\n",
    "        if async_results:\n",
    "            gcapture_ready = all([r.ready() for r in async_results])\n",
    "            if gcapture_ready:\n",
    "                biogan.logger.info(f'gcapture() finished')\n",
    "                if biogan.latest_checkpoint_had_metrics:\n",
    "                    biogan.logger.info(str(biogan.latest_metrics))\n",
    "                async_results = None\n",
    "\n",
    "        # If run locally one pass is enough\n",
    "        if run_locally and gcapture_ready:\n",
    "            break\n",
    "\n",
    "    # If run locally one pass is enough\n",
    "    if run_locally:\n",
    "        break\n",
    "\n",
    "    # noinspection PyProtectedMember\n",
    "    d = {\n",
    "        'step': biogan.step,\n",
    "        'initial_step': biogan.initial_step,\n",
    "        'epoch': biogan.epoch,\n",
    "        '_counter': biogan._counter,\n",
    "        'epoch_inc': biogan.epoch_inc,\n",
    "    }\n",
    "    biogan.logger.debug('[END OF EPOCH] ' + str(d))\n",
    "\n",
    "# Check if a pending checkpoint exists\n",
    "if async_results:\n",
    "    ([r.wait() for r in async_results])\n",
    "    biogan.logger.info(f'last gcapture() finished')\n",
    "    if biogan.latest_checkpoint_had_metrics:\n",
    "        biogan.logger.info(str(biogan.latest_metrics))\n",
    "    async_results = None\n",
    "\n",
    "# Training finished!\n",
    "biogan.logger.info('[training loop] DONE')\n"
   ],
   "execution_count": null,
   "outputs": []
  },
  {
   "cell_type": "markdown",
   "metadata": {
    "collapsed": false,
    "id": "4eo2nbawr6Kl"
   },
   "source": [
    "# 3) Evaluate PGPG\n",
    "In this section we evaluate the generation performance of our trained network using the SOTA GAN evaluation metrics."
   ]
  },
  {
   "cell_type": "markdown",
   "metadata": {
    "collapsed": false,
    "id": "PuHwKZpAr6Kl"
   },
   "source": [
    "## 3.1) Get the metrics evolution plots\n",
    "We plot how the metrics evolved during training. The GAN is **not** trained to minimize those metrics (they are\n",
    "calculated using `torch.no_grad()`) and thus this evolution merely depends on the network and showcases the correlation\n",
    "between the GAN evaluation metrics, and the losses (e.g. adversarial & reconstruction) used to optimize the network."
   ]
  },
  {
   "cell_type": "code",
   "metadata": {
    "pycharm": {
     "name": "#%%\n"
    },
    "id": "1RZWIdiEr6Kl"
   },
   "source": [
    "# Since the PGPG implements utils.ifaces.Visualizable, we can\n",
    "# directly call visualize_metrics() on the model instance.\n",
    "_ = biogan.visualize_metrics(upload=True, preview=True)"
   ],
   "execution_count": null,
   "outputs": []
  },
  {
   "cell_type": "markdown",
   "metadata": {
    "collapsed": false,
    "id": "0JS-838er6Kl"
   },
   "source": [
    "## 3.2) Evaluate Generated Samples\n",
    "In order to evaluate generated samples and compare model with other GAN architectures trained on the same dataset.\n",
    "For this purpose we will re-calculate the evaluation metrics as stated above, but with a much bigger number of samples.\n",
    "In this way, the metrics will be more trustworthy and comparable with the corresponding metrics in the original paper.\n"
   ]
  },
  {
   "cell_type": "code",
   "metadata": {
    "pycharm": {
     "name": "#%%\n"
    },
    "id": "TtWHtcgsr6Km"
   },
   "source": [
    "# Initialize a new evaluator instance\n",
    "# (used to run GAN evaluation metrics: FID, IS, PRECISION, RECALL, F1 and SSIM)\n",
    "evaluator = GanEvaluator(model_fs_folder_or_root=models_groot, gen_dataset=dataloader.test_set, target_index=0,\n",
    "                         device=exec_device, n_samples=10000, batch_size=64, f1_k=f1_k, ssim_c_img=2)\n",
    "# Run the evaluator\n",
    "metrics_dict = evaluator.evaluate(gen=biogan.gen, metric_name='all', show_progress=True)\n",
    "\n",
    "# Print results\n",
    "import json\n",
    "print(json.dumps(metrics_dict, indent=4))\n",
    "\n",
    "#\n",
    "#-----------\n",
    "# Epoch 93\n",
    "#----------\n",
    "# \n",
    "# Training Set:\n",
    "# {\n",
    "#   \"fid\": 16.195581436157227\n",
    "#   \"is\": 3.82967472076416\n",
    "#   \"f1\": 0.8827780485153198\n",
    "#   \"precision\": 0.8856828808784485\n",
    "#   \"recall\": 0.8798921704292297\n",
    "#   \"ssim\": 0.8029271364212036\n",
    "# }\n",
    "#\n",
    "# Test Set:\n",
    "# {\n",
    "#     \"fid\": 26.503515243530273,\n",
    "#     \"is\": 2.957645606994629,\n",
    "#     \"f1\": 0.8494825959205627,\n",
    "#     \"precision\": 0.8351463675498962,\n",
    "#     \"recall\": 0.8643196225166321,\n",
    "#     \"ssim\": 0.7690791009871171\n",
    "# }\n",
    "#"
   ],
   "execution_count": null,
   "outputs": []
  }
 ]
}